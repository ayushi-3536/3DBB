{
 "cells": [
  {
   "cell_type": "code",
   "execution_count": 1,
   "metadata": {},
   "outputs": [],
   "source": [
    "# open /home/as2114/code/3DBB/data/dl_challenge/8b061a8a-9915-11ee-9103-bbb8eae05561/pc.npy\n",
    "import numpy as np\n",
    "pc = np.load('/home/as2114/code/3DBB/data/dl_challenge/8b061a8a-9915-11ee-9103-bbb8eae05561/pc.npy')"
   ]
  },
  {
   "cell_type": "code",
   "execution_count": 2,
   "metadata": {},
   "outputs": [
    {
     "data": {
      "text/plain": [
       "(3, 481, 607)"
      ]
     },
     "execution_count": 2,
     "metadata": {},
     "output_type": "execute_result"
    }
   ],
   "source": [
    "pc.shape"
   ]
  }
 ],
 "metadata": {
  "kernelspec": {
   "display_name": "3ddet",
   "language": "python",
   "name": "python3"
  },
  "language_info": {
   "codemirror_mode": {
    "name": "ipython",
    "version": 3
   },
   "file_extension": ".py",
   "mimetype": "text/x-python",
   "name": "python",
   "nbconvert_exporter": "python",
   "pygments_lexer": "ipython3",
   "version": "3.10.18"
  }
 },
 "nbformat": 4,
 "nbformat_minor": 2
}
