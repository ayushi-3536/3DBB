{
 "cells": [
  {
   "cell_type": "code",
   "execution_count": 2,
   "metadata": {},
   "outputs": [
    {
     "name": "stderr",
     "output_type": "stream",
     "text": [
      "Processing samples: 100%|██████████| 200/200 [00:00<00:00, 62695.13it/s]"
     ]
    },
    {
     "name": "stdout",
     "output_type": "stream",
     "text": [
      "Train samples: 160, Val samples: 40\n",
      " Saved /home/as2114/code/3DBB/data/dl_challenge/train.csv and /home/as2114/code/3DBB/data/dl_challenge/val.csv\n"
     ]
    },
    {
     "name": "stderr",
     "output_type": "stream",
     "text": [
      "\n"
     ]
    }
   ],
   "source": [
    "import os\n",
    "import glob\n",
    "import pandas as pd\n",
    "from sklearn.model_selection import train_test_split\n",
    "from tqdm import tqdm\n",
    "\n",
    "# Root directory\n",
    "root_dir = \"/home/as2114/code/3DBB/data/dl_challenge\"\n",
    "\n",
    "# Collect all subdirectories\n",
    "sample_dirs = [d for d in glob.glob(os.path.join(root_dir, \"*\")) if os.path.isdir(d)]\n",
    "\n",
    "data = []\n",
    "for sd in tqdm(sample_dirs, desc=\"Processing samples\"):\n",
    "    rgb = os.path.join(sd, \"rgb.jpg\")\n",
    "    pc = os.path.join(sd, \"pc.npy\")\n",
    "    bbox3d = os.path.join(sd, \"bbox3d.npy\")\n",
    "    mask = os.path.join(sd, \"mask.npy\")\n",
    "    \n",
    "    # Ensure all files exist\n",
    "    if all(os.path.exists(f) for f in [rgb, pc, bbox3d, mask]):\n",
    "        data.append({\n",
    "            \"image\": rgb,\n",
    "            \"pc\": pc,\n",
    "            \"bbox3d\": bbox3d,\n",
    "            \"mask\": mask\n",
    "        })\n",
    "    else:\n",
    "        tqdm.write(f\"⚠️ Skipping {sd}, missing one or more files\")\n",
    "\n",
    "# Convert to DataFrame\n",
    "df = pd.DataFrame(data)\n",
    "\n",
    "# 80-20 split\n",
    "train_df, val_df = train_test_split(df, test_size=0.2, random_state=42, shuffle=True)\n",
    "\n",
    "# Save CSVs\n",
    "train_csv = os.path.join(root_dir, \"train.csv\")\n",
    "val_csv = os.path.join(root_dir, \"val.csv\")\n",
    "\n",
    "train_df.to_csv(train_csv, index=False)\n",
    "val_df.to_csv(val_csv, index=False)\n",
    "\n",
    "print(f\"Train samples: {len(train_df)}, Val samples: {len(val_df)}\")\n",
    "print(f\" Saved {train_csv} and {val_csv}\")\n"
   ]
  }
 ],
 "metadata": {
  "kernelspec": {
   "display_name": "3ddet",
   "language": "python",
   "name": "python3"
  },
  "language_info": {
   "codemirror_mode": {
    "name": "ipython",
    "version": 3
   },
   "file_extension": ".py",
   "mimetype": "text/x-python",
   "name": "python",
   "nbconvert_exporter": "python",
   "pygments_lexer": "ipython3",
   "version": "3.10.18"
  }
 },
 "nbformat": 4,
 "nbformat_minor": 2
}
